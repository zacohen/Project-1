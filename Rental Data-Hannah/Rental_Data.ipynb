{
 "cells": [
  {
   "cell_type": "code",
   "execution_count": 1,
   "metadata": {},
   "outputs": [
    {
     "data": {
      "text/html": [
       "<div>\n",
       "<style scoped>\n",
       "    .dataframe tbody tr th:only-of-type {\n",
       "        vertical-align: middle;\n",
       "    }\n",
       "\n",
       "    .dataframe tbody tr th {\n",
       "        vertical-align: top;\n",
       "    }\n",
       "\n",
       "    .dataframe thead th {\n",
       "        text-align: right;\n",
       "    }\n",
       "</style>\n",
       "<table border=\"1\" class=\"dataframe\">\n",
       "  <thead>\n",
       "    <tr style=\"text-align: right;\">\n",
       "      <th></th>\n",
       "      <th>DIVISION</th>\n",
       "      <th>PUMA</th>\n",
       "      <th>REGION</th>\n",
       "      <th>ST</th>\n",
       "      <th>TYPE</th>\n",
       "      <th>ACR</th>\n",
       "      <th>BATH</th>\n",
       "      <th>BDSP</th>\n",
       "      <th>BLD</th>\n",
       "      <th>ELEFP</th>\n",
       "      <th>...</th>\n",
       "      <th>WGTP77</th>\n",
       "      <th>WGTP78</th>\n",
       "      <th>WGTP79</th>\n",
       "      <th>WGTP80</th>\n",
       "      <th>WGTP_CLT</th>\n",
       "      <th>AMI</th>\n",
       "      <th>AFF_OCC</th>\n",
       "      <th>AFF_VACS</th>\n",
       "      <th>COST_BURDALL</th>\n",
       "      <th>YEAR</th>\n",
       "    </tr>\n",
       "  </thead>\n",
       "  <tbody>\n",
       "    <tr>\n",
       "      <th>0</th>\n",
       "      <td>5</td>\n",
       "      <td>3102</td>\n",
       "      <td>3</td>\n",
       "      <td>37</td>\n",
       "      <td>1</td>\n",
       "      <td>1.0</td>\n",
       "      <td>1</td>\n",
       "      <td>3</td>\n",
       "      <td>2</td>\n",
       "      <td>3.0</td>\n",
       "      <td>...</td>\n",
       "      <td>58</td>\n",
       "      <td>188</td>\n",
       "      <td>173</td>\n",
       "      <td>54</td>\n",
       "      <td>200.33</td>\n",
       "      <td>1.0</td>\n",
       "      <td>3.0</td>\n",
       "      <td>NaN</td>\n",
       "      <td>1.0</td>\n",
       "      <td>2018</td>\n",
       "    </tr>\n",
       "    <tr>\n",
       "      <th>1</th>\n",
       "      <td>5</td>\n",
       "      <td>3104</td>\n",
       "      <td>3</td>\n",
       "      <td>37</td>\n",
       "      <td>1</td>\n",
       "      <td>NaN</td>\n",
       "      <td>1</td>\n",
       "      <td>2</td>\n",
       "      <td>6</td>\n",
       "      <td>3.0</td>\n",
       "      <td>...</td>\n",
       "      <td>164</td>\n",
       "      <td>119</td>\n",
       "      <td>115</td>\n",
       "      <td>35</td>\n",
       "      <td>111.87</td>\n",
       "      <td>7.0</td>\n",
       "      <td>4.0</td>\n",
       "      <td>NaN</td>\n",
       "      <td>0.0</td>\n",
       "      <td>2018</td>\n",
       "    </tr>\n",
       "    <tr>\n",
       "      <th>2</th>\n",
       "      <td>5</td>\n",
       "      <td>3105</td>\n",
       "      <td>3</td>\n",
       "      <td>37</td>\n",
       "      <td>1</td>\n",
       "      <td>NaN</td>\n",
       "      <td>1</td>\n",
       "      <td>2</td>\n",
       "      <td>5</td>\n",
       "      <td>NaN</td>\n",
       "      <td>...</td>\n",
       "      <td>23</td>\n",
       "      <td>151</td>\n",
       "      <td>149</td>\n",
       "      <td>136</td>\n",
       "      <td>81.51</td>\n",
       "      <td>NaN</td>\n",
       "      <td>2.0</td>\n",
       "      <td>2.0</td>\n",
       "      <td>NaN</td>\n",
       "      <td>2018</td>\n",
       "    </tr>\n",
       "    <tr>\n",
       "      <th>3</th>\n",
       "      <td>5</td>\n",
       "      <td>3101</td>\n",
       "      <td>3</td>\n",
       "      <td>37</td>\n",
       "      <td>1</td>\n",
       "      <td>1.0</td>\n",
       "      <td>1</td>\n",
       "      <td>3</td>\n",
       "      <td>2</td>\n",
       "      <td>3.0</td>\n",
       "      <td>...</td>\n",
       "      <td>83</td>\n",
       "      <td>95</td>\n",
       "      <td>148</td>\n",
       "      <td>24</td>\n",
       "      <td>90.00</td>\n",
       "      <td>5.0</td>\n",
       "      <td>2.0</td>\n",
       "      <td>NaN</td>\n",
       "      <td>0.0</td>\n",
       "      <td>2018</td>\n",
       "    </tr>\n",
       "    <tr>\n",
       "      <th>4</th>\n",
       "      <td>5</td>\n",
       "      <td>3105</td>\n",
       "      <td>3</td>\n",
       "      <td>37</td>\n",
       "      <td>1</td>\n",
       "      <td>NaN</td>\n",
       "      <td>1</td>\n",
       "      <td>2</td>\n",
       "      <td>7</td>\n",
       "      <td>3.0</td>\n",
       "      <td>...</td>\n",
       "      <td>66</td>\n",
       "      <td>16</td>\n",
       "      <td>58</td>\n",
       "      <td>21</td>\n",
       "      <td>61.87</td>\n",
       "      <td>5.0</td>\n",
       "      <td>3.0</td>\n",
       "      <td>NaN</td>\n",
       "      <td>0.0</td>\n",
       "      <td>2018</td>\n",
       "    </tr>\n",
       "  </tbody>\n",
       "</table>\n",
       "<p>5 rows × 119 columns</p>\n",
       "</div>"
      ],
      "text/plain": [
       "   DIVISION  PUMA  REGION  ST  TYPE  ACR  BATH  BDSP  BLD  ELEFP  ...  WGTP77  \\\n",
       "0         5  3102       3  37     1  1.0     1     3    2    3.0  ...      58   \n",
       "1         5  3104       3  37     1  NaN     1     2    6    3.0  ...     164   \n",
       "2         5  3105       3  37     1  NaN     1     2    5    NaN  ...      23   \n",
       "3         5  3101       3  37     1  1.0     1     3    2    3.0  ...      83   \n",
       "4         5  3105       3  37     1  NaN     1     2    7    3.0  ...      66   \n",
       "\n",
       "   WGTP78  WGTP79  WGTP80  WGTP_CLT  AMI  AFF_OCC  AFF_VACS  COST_BURDALL  \\\n",
       "0     188     173      54    200.33  1.0      3.0       NaN           1.0   \n",
       "1     119     115      35    111.87  7.0      4.0       NaN           0.0   \n",
       "2     151     149     136     81.51  NaN      2.0       2.0           NaN   \n",
       "3      95     148      24     90.00  5.0      2.0       NaN           0.0   \n",
       "4      16      58      21     61.87  5.0      3.0       NaN           0.0   \n",
       "\n",
       "   YEAR  \n",
       "0  2018  \n",
       "1  2018  \n",
       "2  2018  \n",
       "3  2018  \n",
       "4  2018  \n",
       "\n",
       "[5 rows x 119 columns]"
      ]
     },
     "execution_count": 1,
     "metadata": {},
     "output_type": "execute_result"
    }
   ],
   "source": [
    "import matplotlib.pyplot as plt\n",
    "import pandas as pd\n",
    "import numpy as np\n",
    "import requests\n",
    "import time\n",
    "import scipy.stats as st\n",
    "from scipy.stats import linregress\n",
    "\n",
    "#get csv housing data\n",
    "data = \"Housing_Demand_and_Availability_by_Income CLEANED UP.csv\"\n",
    "CLThousing = pd.read_csv(data)\n",
    "CLThousing.head()"
   ]
  },
  {
   "cell_type": "code",
   "execution_count": 2,
   "metadata": {},
   "outputs": [
    {
     "data": {
      "text/html": [
       "<div>\n",
       "<style scoped>\n",
       "    .dataframe tbody tr th:only-of-type {\n",
       "        vertical-align: middle;\n",
       "    }\n",
       "\n",
       "    .dataframe tbody tr th {\n",
       "        vertical-align: top;\n",
       "    }\n",
       "\n",
       "    .dataframe thead th {\n",
       "        text-align: right;\n",
       "    }\n",
       "</style>\n",
       "<table border=\"1\" class=\"dataframe\">\n",
       "  <thead>\n",
       "    <tr style=\"text-align: right;\">\n",
       "      <th></th>\n",
       "      <th>Monthly Rent Price</th>\n",
       "      <th>Number of Bedrooms</th>\n",
       "      <th>Building Type</th>\n",
       "    </tr>\n",
       "  </thead>\n",
       "  <tbody>\n",
       "    <tr>\n",
       "      <th>0</th>\n",
       "      <td>800.0</td>\n",
       "      <td>3</td>\n",
       "      <td>2</td>\n",
       "    </tr>\n",
       "    <tr>\n",
       "      <th>1</th>\n",
       "      <td>1100.0</td>\n",
       "      <td>2</td>\n",
       "      <td>6</td>\n",
       "    </tr>\n",
       "    <tr>\n",
       "      <th>2</th>\n",
       "      <td>450.0</td>\n",
       "      <td>2</td>\n",
       "      <td>5</td>\n",
       "    </tr>\n",
       "    <tr>\n",
       "      <th>3</th>\n",
       "      <td>600.0</td>\n",
       "      <td>3</td>\n",
       "      <td>2</td>\n",
       "    </tr>\n",
       "    <tr>\n",
       "      <th>4</th>\n",
       "      <td>800.0</td>\n",
       "      <td>2</td>\n",
       "      <td>7</td>\n",
       "    </tr>\n",
       "  </tbody>\n",
       "</table>\n",
       "</div>"
      ],
      "text/plain": [
       "   Monthly Rent Price  Number of Bedrooms  Building Type\n",
       "0               800.0                   3              2\n",
       "1              1100.0                   2              6\n",
       "2               450.0                   2              5\n",
       "3               600.0                   3              2\n",
       "4               800.0                   2              7"
      ]
     },
     "execution_count": 2,
     "metadata": {},
     "output_type": "execute_result"
    }
   ],
   "source": [
    "#create new dataFrame that only has rows needed to reviewing \n",
    "#renting issues in Charlotte NC\n",
    "cltDF = CLThousing[['RNTP', 'BDSP', 'BLD']]\n",
    "\n",
    "#rename the columns to easier understand\n",
    "cltDF = cltDF.rename(columns={'RNTP': \"Monthly Rent Price\",\n",
    "                    \"BDSP\": \"Number of Bedrooms\",\n",
    "                    \"BLD\": \"Building Type\"})\n",
    "cltDF.head()"
   ]
  },
  {
   "cell_type": "code",
   "execution_count": 3,
   "metadata": {
    "scrolled": true
   },
   "outputs": [
    {
     "data": {
      "text/html": [
       "<div>\n",
       "<style scoped>\n",
       "    .dataframe tbody tr th:only-of-type {\n",
       "        vertical-align: middle;\n",
       "    }\n",
       "\n",
       "    .dataframe tbody tr th {\n",
       "        vertical-align: top;\n",
       "    }\n",
       "\n",
       "    .dataframe thead th {\n",
       "        text-align: right;\n",
       "    }\n",
       "</style>\n",
       "<table border=\"1\" class=\"dataframe\">\n",
       "  <thead>\n",
       "    <tr style=\"text-align: right;\">\n",
       "      <th></th>\n",
       "      <th>Monthly Rent Price</th>\n",
       "      <th>Number of Bedrooms</th>\n",
       "      <th>Building Type</th>\n",
       "    </tr>\n",
       "  </thead>\n",
       "  <tbody>\n",
       "    <tr>\n",
       "      <th>0</th>\n",
       "      <td>800.0</td>\n",
       "      <td>3</td>\n",
       "      <td>2</td>\n",
       "    </tr>\n",
       "    <tr>\n",
       "      <th>1</th>\n",
       "      <td>1100.0</td>\n",
       "      <td>2</td>\n",
       "      <td>6</td>\n",
       "    </tr>\n",
       "    <tr>\n",
       "      <th>2</th>\n",
       "      <td>450.0</td>\n",
       "      <td>2</td>\n",
       "      <td>5</td>\n",
       "    </tr>\n",
       "    <tr>\n",
       "      <th>3</th>\n",
       "      <td>600.0</td>\n",
       "      <td>3</td>\n",
       "      <td>2</td>\n",
       "    </tr>\n",
       "    <tr>\n",
       "      <th>4</th>\n",
       "      <td>800.0</td>\n",
       "      <td>2</td>\n",
       "      <td>7</td>\n",
       "    </tr>\n",
       "  </tbody>\n",
       "</table>\n",
       "</div>"
      ],
      "text/plain": [
       "   Monthly Rent Price  Number of Bedrooms  Building Type\n",
       "0               800.0                   3              2\n",
       "1              1100.0                   2              6\n",
       "2               450.0                   2              5\n",
       "3               600.0                   3              2\n",
       "4               800.0                   2              7"
      ]
     },
     "execution_count": 3,
     "metadata": {},
     "output_type": "execute_result"
    }
   ],
   "source": [
    "#remove columns that do not have rent price listed\n",
    "cltDF.dropna(subset=[\"Monthly Rent Price\"],inplace=True)\n",
    "cltDF.head()"
   ]
  },
  {
   "cell_type": "code",
   "execution_count": 4,
   "metadata": {},
   "outputs": [
    {
     "data": {
      "text/html": [
       "<div>\n",
       "<style scoped>\n",
       "    .dataframe tbody tr th:only-of-type {\n",
       "        vertical-align: middle;\n",
       "    }\n",
       "\n",
       "    .dataframe tbody tr th {\n",
       "        vertical-align: top;\n",
       "    }\n",
       "\n",
       "    .dataframe thead th {\n",
       "        text-align: right;\n",
       "    }\n",
       "</style>\n",
       "<table border=\"1\" class=\"dataframe\">\n",
       "  <thead>\n",
       "    <tr style=\"text-align: right;\">\n",
       "      <th></th>\n",
       "      <th>Monthly Rent Price</th>\n",
       "      <th>Number of Bedrooms</th>\n",
       "      <th>Building Type</th>\n",
       "    </tr>\n",
       "  </thead>\n",
       "  <tbody>\n",
       "    <tr>\n",
       "      <th>0</th>\n",
       "      <td>800.0</td>\n",
       "      <td>3</td>\n",
       "      <td>2</td>\n",
       "    </tr>\n",
       "    <tr>\n",
       "      <th>1</th>\n",
       "      <td>1100.0</td>\n",
       "      <td>2</td>\n",
       "      <td>6</td>\n",
       "    </tr>\n",
       "    <tr>\n",
       "      <th>2</th>\n",
       "      <td>450.0</td>\n",
       "      <td>2</td>\n",
       "      <td>5</td>\n",
       "    </tr>\n",
       "    <tr>\n",
       "      <th>3</th>\n",
       "      <td>600.0</td>\n",
       "      <td>3</td>\n",
       "      <td>2</td>\n",
       "    </tr>\n",
       "    <tr>\n",
       "      <th>4</th>\n",
       "      <td>800.0</td>\n",
       "      <td>2</td>\n",
       "      <td>7</td>\n",
       "    </tr>\n",
       "  </tbody>\n",
       "</table>\n",
       "</div>"
      ],
      "text/plain": [
       "   Monthly Rent Price  Number of Bedrooms  Building Type\n",
       "0               800.0                   3              2\n",
       "1              1100.0                   2              6\n",
       "2               450.0                   2              5\n",
       "3               600.0                   3              2\n",
       "4               800.0                   2              7"
      ]
     },
     "execution_count": 4,
     "metadata": {},
     "output_type": "execute_result"
    }
   ],
   "source": [
    "#df = df.drop(df[df.score < 50].index)\n",
    "cltIndex = cltDF[cltDF['Monthly Rent Price']>2500].index\n",
    "cltDF = cltDF.drop(cltIndex, inplace=False)\n",
    "cltDF.head()"
   ]
  },
  {
   "cell_type": "code",
   "execution_count": 5,
   "metadata": {
    "scrolled": true
   },
   "outputs": [
    {
     "name": "stderr",
     "output_type": "stream",
     "text": [
      "<ipython-input-5-d3011dae0305>:4: RuntimeWarning: divide by zero encountered in double_scalars\n",
      "  cltDF[\"Rent by Room\"] = cltDF.apply(lambda x : x[\"Monthly Rent Price\"]/x[\"Number of Bedrooms\"], axis=1)\n"
     ]
    },
    {
     "data": {
      "text/html": [
       "<div>\n",
       "<style scoped>\n",
       "    .dataframe tbody tr th:only-of-type {\n",
       "        vertical-align: middle;\n",
       "    }\n",
       "\n",
       "    .dataframe tbody tr th {\n",
       "        vertical-align: top;\n",
       "    }\n",
       "\n",
       "    .dataframe thead th {\n",
       "        text-align: right;\n",
       "    }\n",
       "</style>\n",
       "<table border=\"1\" class=\"dataframe\">\n",
       "  <thead>\n",
       "    <tr style=\"text-align: right;\">\n",
       "      <th></th>\n",
       "      <th>Monthly Rent Price</th>\n",
       "      <th>Number of Bedrooms</th>\n",
       "      <th>Building Type</th>\n",
       "      <th>Rent by Room</th>\n",
       "    </tr>\n",
       "  </thead>\n",
       "  <tbody>\n",
       "    <tr>\n",
       "      <th>0</th>\n",
       "      <td>800.0</td>\n",
       "      <td>3</td>\n",
       "      <td>2</td>\n",
       "      <td>266.666667</td>\n",
       "    </tr>\n",
       "    <tr>\n",
       "      <th>1</th>\n",
       "      <td>1100.0</td>\n",
       "      <td>2</td>\n",
       "      <td>6</td>\n",
       "      <td>550.000000</td>\n",
       "    </tr>\n",
       "    <tr>\n",
       "      <th>2</th>\n",
       "      <td>450.0</td>\n",
       "      <td>2</td>\n",
       "      <td>5</td>\n",
       "      <td>225.000000</td>\n",
       "    </tr>\n",
       "    <tr>\n",
       "      <th>3</th>\n",
       "      <td>600.0</td>\n",
       "      <td>3</td>\n",
       "      <td>2</td>\n",
       "      <td>200.000000</td>\n",
       "    </tr>\n",
       "    <tr>\n",
       "      <th>4</th>\n",
       "      <td>800.0</td>\n",
       "      <td>2</td>\n",
       "      <td>7</td>\n",
       "      <td>400.000000</td>\n",
       "    </tr>\n",
       "  </tbody>\n",
       "</table>\n",
       "</div>"
      ],
      "text/plain": [
       "   Monthly Rent Price  Number of Bedrooms  Building Type  Rent by Room\n",
       "0               800.0                   3              2    266.666667\n",
       "1              1100.0                   2              6    550.000000\n",
       "2               450.0                   2              5    225.000000\n",
       "3               600.0                   3              2    200.000000\n",
       "4               800.0                   2              7    400.000000"
      ]
     },
     "execution_count": 5,
     "metadata": {},
     "output_type": "execute_result"
    }
   ],
   "source": [
    "#add in Rent by Room column and calc\n",
    "cltDF=cltDF.astype({\"Monthly Rent Price\": \"float64\",\n",
    "                    \"Number of Bedrooms\": \"int32\"})\n",
    "cltDF[\"Rent by Room\"] = cltDF.apply(lambda x : x[\"Monthly Rent Price\"]/x[\"Number of Bedrooms\"], axis=1)\n",
    "cltDF.head()"
   ]
  },
  {
   "cell_type": "code",
   "execution_count": 6,
   "metadata": {},
   "outputs": [
    {
     "data": {
      "text/plain": [
       "Monthly Rent Price    1040.519481\n",
       "Number of Bedrooms       0.000000\n",
       "Building Type            8.311688\n",
       "Rent by Room                  inf\n",
       "dtype: float64"
      ]
     },
     "execution_count": 6,
     "metadata": {},
     "output_type": "execute_result"
    }
   ],
   "source": [
    "#find median for 0 bedrooms\n",
    "Studio= cltDF[cltDF[\"Number of Bedrooms\"]==0].mean()\n",
    "Studio"
   ]
  },
  {
   "cell_type": "code",
   "execution_count": 7,
   "metadata": {},
   "outputs": [
    {
     "data": {
      "text/plain": [
       "Monthly Rent Price    925.673759\n",
       "Number of Bedrooms      1.000000\n",
       "Building Type           7.304965\n",
       "Rent by Room          925.673759\n",
       "dtype: float64"
      ]
     },
     "execution_count": 7,
     "metadata": {},
     "output_type": "execute_result"
    }
   ],
   "source": [
    "#find median for 1 bedrooms\n",
    "OneBed=cltDF[cltDF[\"Number of Bedrooms\"]==1].mean()\n",
    "OneBed"
   ]
  },
  {
   "cell_type": "code",
   "execution_count": 8,
   "metadata": {},
   "outputs": [
    {
     "data": {
      "text/plain": [
       "Monthly Rent Price    1038.620451\n",
       "Number of Bedrooms       2.000000\n",
       "Building Type            5.901213\n",
       "Rent by Room           519.310225\n",
       "dtype: float64"
      ]
     },
     "execution_count": 8,
     "metadata": {},
     "output_type": "execute_result"
    }
   ],
   "source": [
    "#find median for 2 bedrooms\n",
    "TwoBed=cltDF[cltDF[\"Number of Bedrooms\"]==2].mean()\n",
    "TwoBed"
   ]
  },
  {
   "cell_type": "code",
   "execution_count": 9,
   "metadata": {},
   "outputs": [
    {
     "data": {
      "text/plain": [
       "Monthly Rent Price    1084.550000\n",
       "Number of Bedrooms       3.000000\n",
       "Building Type            3.330000\n",
       "Rent by Room           361.516667\n",
       "dtype: float64"
      ]
     },
     "execution_count": 9,
     "metadata": {},
     "output_type": "execute_result"
    }
   ],
   "source": [
    "#find median for 3 bedrooms\n",
    "ThreeBed=cltDF[cltDF[\"Number of Bedrooms\"]==3].mean()\n",
    "ThreeBed"
   ]
  },
  {
   "cell_type": "code",
   "execution_count": 10,
   "metadata": {},
   "outputs": [
    {
     "data": {
      "text/plain": [
       "Monthly Rent Price    1238.023256\n",
       "Number of Bedrooms       4.000000\n",
       "Building Type            2.581395\n",
       "Rent by Room           309.505814\n",
       "dtype: float64"
      ]
     },
     "execution_count": 10,
     "metadata": {},
     "output_type": "execute_result"
    }
   ],
   "source": [
    "#find median for 4 bedrooms\n",
    "FourBed=cltDF[cltDF[\"Number of Bedrooms\"]==4].mean()\n",
    "FourBed"
   ]
  },
  {
   "cell_type": "code",
   "execution_count": 11,
   "metadata": {},
   "outputs": [
    {
     "data": {
      "text/plain": [
       "Monthly Rent Price    1388.181818\n",
       "Number of Bedrooms       5.000000\n",
       "Building Type            3.181818\n",
       "Rent by Room           277.636364\n",
       "dtype: float64"
      ]
     },
     "execution_count": 11,
     "metadata": {},
     "output_type": "execute_result"
    }
   ],
   "source": [
    "#find median for 5 bedrooms\n",
    "FiveBed=cltDF[cltDF[\"Number of Bedrooms\"]==5].mean()\n",
    "FiveBed"
   ]
  },
  {
   "cell_type": "code",
   "execution_count": 18,
   "metadata": {},
   "outputs": [],
   "source": [
    "newDF= pd.DataFrame({\"Stu\": Studio[\"Monthly Rent Price\"],\n",
    "                    \"1Br\": OneBed[\"Monthly Rent Price\"],\n",
    "                    \"2Br\": TwoBed[\"Monthly Rent Price\"],\n",
    "                    \"3Br\": ThreeBed[\"Monthly Rent Price\"],\n",
    "                     \"4Br\": FourBed[\"Monthly Rent Price\"],\n",
    "                     \"5Br\": FiveBed[\"Monthly Rent Price\"]},index=[\"Monthly Rent Price\"])\n",
    "newDF=newDF.transpose()"
   ]
  },
  {
   "cell_type": "code",
   "execution_count": 19,
   "metadata": {},
   "outputs": [
    {
     "data": {
      "image/png": "[encoded data removed]",
      "text/plain": [
       "<Figure size 432x288 with 1 Axes>"
      ]
     },
     "metadata": {
      "needs_background": "light"
     },
     "output_type": "display_data"
    }
   ],
   "source": [
    "#graph to show monthly rent by number of rooms\n",
    "newDF.plot(kind=\"bar\")\n",
    "plt.title(\"Average Monthly Rent Price\")\n",
    "plt.ylabel(\"Rent Price $\")\n",
    "plt.savefig(\"Hannah-1.png\")\n",
    "plt.show()"
   ]
  },
  {
   "cell_type": "code",
   "execution_count": 20,
   "metadata": {},
   "outputs": [],
   "source": [
    "newTwoDF= pd.DataFrame({\"1Br\": OneBed[\"Rent by Room\"],\n",
    "                    \"2Br\": TwoBed[\"Rent by Room\"],\n",
    "                    \"3Br\": ThreeBed[\"Rent by Room\"],\n",
    "                     \"4Br\": FourBed[\"Rent by Room\"],\n",
    "                     \"5Br\": FiveBed[\"Rent by Room\"]},index=[\"Rent by Room\"])\n",
    "newTwoDF=newTwoDF.transpose()"
   ]
  },
  {
   "cell_type": "code",
   "execution_count": 21,
   "metadata": {},
   "outputs": [
    {
     "data": {
      "image/png": "[encoded data removed]",
      "text/plain": [
       "<Figure size 432x288 with 1 Axes>"
      ]
     },
     "metadata": {
      "needs_background": "light"
     },
     "output_type": "display_data"
    }
   ],
   "source": [
    "#graph to show monthly rent if number of rooms is taken into consideration\n",
    "newTwoDF.plot(kind=\"bar\")\n",
    "plt.title(\"Avereage Monthly Price by Bedroom\")\n",
    "plt.ylabel(\"Rent Price $\")\n",
    "plt.savefig(\"Hannah-2.png\")\n",
    "plt.show()"
   ]
  },
  {
   "cell_type": "code",
   "execution_count": null,
   "metadata": {},
   "outputs": [],
   "source": []
  }
 ],
 "metadata": {
  "kernelspec": {
   "display_name": "Python 3",
   "language": "python",
   "name": "python3"
  },
  "language_info": {
   "codemirror_mode": {
    "name": "ipython",
    "version": 3
   },
   "file_extension": ".py",
   "mimetype": "text/x-python",
   "name": "python",
   "nbconvert_exporter": "python",
   "pygments_lexer": "ipython3",
   "version": "3.8.3"
  }
 },
 "nbformat": 4,
 "nbformat_minor": 4
}
