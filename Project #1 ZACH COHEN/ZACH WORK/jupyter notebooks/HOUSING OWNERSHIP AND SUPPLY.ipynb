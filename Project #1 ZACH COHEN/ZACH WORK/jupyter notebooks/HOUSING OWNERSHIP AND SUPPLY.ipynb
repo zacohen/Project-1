{
 "cells": [
  {
   "cell_type": "code",
   "execution_count": 1,
   "metadata": {},
   "outputs": [],
   "source": [
    "import pandas as pd\n",
    "import os\n",
    "from matplotlib import pyplot as plt\n",
    "\n"
   ]
  },
  {
   "cell_type": "code",
   "execution_count": 2,
   "metadata": {},
   "outputs": [],
   "source": [
    "HousingDF= pd.read_excel(\"housing data2019 & 2020.xlsx\")\n",
    "OwnershipDF = pd.read_csv(\"Housing Ownership.csv\")\n",
    "#THIS ONE WILL FOCUS ON SHOWING MONTHS SUPPLY"
   ]
  },
  {
   "cell_type": "code",
   "execution_count": 10,
   "metadata": {},
   "outputs": [
    {
     "data": {
      "text/html": [
       "<div>\n",
       "<style scoped>\n",
       "    .dataframe tbody tr th:only-of-type {\n",
       "        vertical-align: middle;\n",
       "    }\n",
       "\n",
       "    .dataframe tbody tr th {\n",
       "        vertical-align: top;\n",
       "    }\n",
       "\n",
       "    .dataframe thead th {\n",
       "        text-align: right;\n",
       "    }\n",
       "</style>\n",
       "<table border=\"1\" class=\"dataframe\">\n",
       "  <thead>\n",
       "    <tr style=\"text-align: right;\">\n",
       "      <th></th>\n",
       "      <th>ID Occupied By</th>\n",
       "      <th>Occupied By</th>\n",
       "      <th>ID Year</th>\n",
       "      <th>Year</th>\n",
       "      <th>Household Ownership</th>\n",
       "      <th>Household Ownership Moe</th>\n",
       "      <th>Geography</th>\n",
       "      <th>ID Geography</th>\n",
       "      <th>Slug Geography</th>\n",
       "      <th>share</th>\n",
       "    </tr>\n",
       "  </thead>\n",
       "  <tbody>\n",
       "    <tr>\n",
       "      <th>0</th>\n",
       "      <td>0</td>\n",
       "      <td>Owner Occupied</td>\n",
       "      <td>2018</td>\n",
       "      <td>2018</td>\n",
       "      <td>227899</td>\n",
       "      <td>2210</td>\n",
       "      <td>Mecklenburg County, NC</td>\n",
       "      <td>05000US37119</td>\n",
       "      <td>mecklenburg-county-nc</td>\n",
       "      <td>0.564741</td>\n",
       "    </tr>\n",
       "    <tr>\n",
       "      <th>1</th>\n",
       "      <td>0</td>\n",
       "      <td>Owner Occupied</td>\n",
       "      <td>2017</td>\n",
       "      <td>2017</td>\n",
       "      <td>224217</td>\n",
       "      <td>2059</td>\n",
       "      <td>Mecklenburg County, NC</td>\n",
       "      <td>05000US37119</td>\n",
       "      <td>mecklenburg-county-nc</td>\n",
       "      <td>0.566916</td>\n",
       "    </tr>\n",
       "    <tr>\n",
       "      <th>2</th>\n",
       "      <td>0</td>\n",
       "      <td>Owner Occupied</td>\n",
       "      <td>2016</td>\n",
       "      <td>2016</td>\n",
       "      <td>220137</td>\n",
       "      <td>2011</td>\n",
       "      <td>Mecklenburg County, NC</td>\n",
       "      <td>05000US37119</td>\n",
       "      <td>mecklenburg-county-nc</td>\n",
       "      <td>0.569118</td>\n",
       "    </tr>\n",
       "    <tr>\n",
       "      <th>3</th>\n",
       "      <td>0</td>\n",
       "      <td>Owner Occupied</td>\n",
       "      <td>2015</td>\n",
       "      <td>2015</td>\n",
       "      <td>218311</td>\n",
       "      <td>2236</td>\n",
       "      <td>Mecklenburg County, NC</td>\n",
       "      <td>05000US37119</td>\n",
       "      <td>mecklenburg-county-nc</td>\n",
       "      <td>0.574826</td>\n",
       "    </tr>\n",
       "    <tr>\n",
       "      <th>4</th>\n",
       "      <td>0</td>\n",
       "      <td>Owner Occupied</td>\n",
       "      <td>2014</td>\n",
       "      <td>2014</td>\n",
       "      <td>218221</td>\n",
       "      <td>2233</td>\n",
       "      <td>Mecklenburg County, NC</td>\n",
       "      <td>05000US37119</td>\n",
       "      <td>mecklenburg-county-nc</td>\n",
       "      <td>0.586740</td>\n",
       "    </tr>\n",
       "    <tr>\n",
       "      <th>5</th>\n",
       "      <td>0</td>\n",
       "      <td>Owner Occupied</td>\n",
       "      <td>2013</td>\n",
       "      <td>2013</td>\n",
       "      <td>218240</td>\n",
       "      <td>1886</td>\n",
       "      <td>Mecklenburg County, NC</td>\n",
       "      <td>05000US37119</td>\n",
       "      <td>mecklenburg-county-nc</td>\n",
       "      <td>0.595164</td>\n",
       "    </tr>\n",
       "  </tbody>\n",
       "</table>\n",
       "</div>"
      ],
      "text/plain": [
       "   ID Occupied By     Occupied By  ID Year  Year  Household Ownership  \\\n",
       "0               0  Owner Occupied     2018  2018               227899   \n",
       "1               0  Owner Occupied     2017  2017               224217   \n",
       "2               0  Owner Occupied     2016  2016               220137   \n",
       "3               0  Owner Occupied     2015  2015               218311   \n",
       "4               0  Owner Occupied     2014  2014               218221   \n",
       "5               0  Owner Occupied     2013  2013               218240   \n",
       "\n",
       "   Household Ownership Moe               Geography  ID Geography  \\\n",
       "0                     2210  Mecklenburg County, NC  05000US37119   \n",
       "1                     2059  Mecklenburg County, NC  05000US37119   \n",
       "2                     2011  Mecklenburg County, NC  05000US37119   \n",
       "3                     2236  Mecklenburg County, NC  05000US37119   \n",
       "4                     2233  Mecklenburg County, NC  05000US37119   \n",
       "5                     1886  Mecklenburg County, NC  05000US37119   \n",
       "\n",
       "          Slug Geography     share  \n",
       "0  mecklenburg-county-nc  0.564741  \n",
       "1  mecklenburg-county-nc  0.566916  \n",
       "2  mecklenburg-county-nc  0.569118  \n",
       "3  mecklenburg-county-nc  0.574826  \n",
       "4  mecklenburg-county-nc  0.586740  \n",
       "5  mecklenburg-county-nc  0.595164  "
      ]
     },
     "execution_count": 10,
     "metadata": {},
     "output_type": "execute_result"
    }
   ],
   "source": [
    "OwnershipDF \n"
   ]
  },
  {
   "cell_type": "code",
   "execution_count": 12,
   "metadata": {},
   "outputs": [
    {
     "data": {
      "text/plain": [
       "[<matplotlib.lines.Line2D at 0x24520a614f0>]"
      ]
     },
     "execution_count": 12,
     "metadata": {},
     "output_type": "execute_result"
    },
    {
     "data": {
      "image/png": "[encoded data removed]",
      "text/plain": [
       "<Figure size 432x288 with 1 Axes>"
      ]
     },
     "metadata": {
      "needs_background": "light"
     },
     "output_type": "display_data"
    }
   ],
   "source": [
    "x_axis = OwnershipDF[\"share\"]\n",
    "y_axis = OwnershipDF[\"Year\"]\n",
    "plt.xlabel(\"Percentage of House Ownership\")\n",
    "plt.ylabel(\"Year\")\n",
    "plt.title(\"Mecklenburg County Home Ownership from 2013 to 2018\")\n",
    "plt.plot(x_axis, y_axis)"
   ]
  },
  {
   "cell_type": "code",
   "execution_count": 3,
   "metadata": {},
   "outputs": [
    {
     "data": {
      "text/html": [
       "<div>\n",
       "<style scoped>\n",
       "    .dataframe tbody tr th:only-of-type {\n",
       "        vertical-align: middle;\n",
       "    }\n",
       "\n",
       "    .dataframe tbody tr th {\n",
       "        vertical-align: top;\n",
       "    }\n",
       "\n",
       "    .dataframe thead th {\n",
       "        text-align: right;\n",
       "    }\n",
       "</style>\n",
       "<table border=\"1\" class=\"dataframe\">\n",
       "  <thead>\n",
       "    <tr style=\"text-align: right;\">\n",
       "      <th></th>\n",
       "      <th>Month/YR</th>\n",
       "      <th>New Listings</th>\n",
       "      <th>Pending Sales</th>\n",
       "      <th>Closed Sales</th>\n",
       "      <th>Median Sales Price</th>\n",
       "      <th>Average Sales Price</th>\n",
       "      <th>Percent of Orginal List Price</th>\n",
       "      <th>List to close</th>\n",
       "      <th>Days on Market until Sale</th>\n",
       "      <th>Inv of Homes for Sales</th>\n",
       "      <th>Months supply of inventory</th>\n",
       "    </tr>\n",
       "  </thead>\n",
       "  <tbody>\n",
       "    <tr>\n",
       "      <th>1</th>\n",
       "      <td>2020-09-01</td>\n",
       "      <td>2170</td>\n",
       "      <td>2085</td>\n",
       "      <td>2008</td>\n",
       "      <td>305738</td>\n",
       "      <td>388411</td>\n",
       "      <td>98.8</td>\n",
       "      <td>78</td>\n",
       "      <td>24</td>\n",
       "      <td>2087</td>\n",
       "      <td>1.1</td>\n",
       "    </tr>\n",
       "    <tr>\n",
       "      <th>3</th>\n",
       "      <td>2020-06-01</td>\n",
       "      <td>2221</td>\n",
       "      <td>2478</td>\n",
       "      <td>2004</td>\n",
       "      <td>300000</td>\n",
       "      <td>370042</td>\n",
       "      <td>98.1</td>\n",
       "      <td>86</td>\n",
       "      <td>33</td>\n",
       "      <td>2111</td>\n",
       "      <td>1.2</td>\n",
       "    </tr>\n",
       "    <tr>\n",
       "      <th>5</th>\n",
       "      <td>2020-04-01</td>\n",
       "      <td>1593</td>\n",
       "      <td>1399</td>\n",
       "      <td>1370</td>\n",
       "      <td>305425</td>\n",
       "      <td>379451</td>\n",
       "      <td>98.5</td>\n",
       "      <td>86</td>\n",
       "      <td>32</td>\n",
       "      <td>2640</td>\n",
       "      <td>1.5</td>\n",
       "    </tr>\n",
       "    <tr>\n",
       "      <th>7</th>\n",
       "      <td>2020-02-01</td>\n",
       "      <td>1819</td>\n",
       "      <td>2028</td>\n",
       "      <td>1322</td>\n",
       "      <td>275000</td>\n",
       "      <td>342289</td>\n",
       "      <td>97.1</td>\n",
       "      <td>93</td>\n",
       "      <td>44</td>\n",
       "      <td>2178</td>\n",
       "      <td>1.2</td>\n",
       "    </tr>\n",
       "  </tbody>\n",
       "</table>\n",
       "</div>"
      ],
      "text/plain": [
       "    Month/YR  New Listings  Pending Sales  Closed Sales  Median Sales Price  \\\n",
       "1 2020-09-01          2170           2085          2008              305738   \n",
       "3 2020-06-01          2221           2478          2004              300000   \n",
       "5 2020-04-01          1593           1399          1370              305425   \n",
       "7 2020-02-01          1819           2028          1322              275000   \n",
       "\n",
       "   Average Sales Price  Percent of Orginal List Price  List to close  \\\n",
       "1               388411                           98.8             78   \n",
       "3               370042                           98.1             86   \n",
       "5               379451                           98.5             86   \n",
       "7               342289                           97.1             93   \n",
       "\n",
       "   Days on Market until Sale  Inv of Homes for Sales  \\\n",
       "1                         24                    2087   \n",
       "3                         33                    2111   \n",
       "5                         32                    2640   \n",
       "7                         44                    2178   \n",
       "\n",
       "   Months supply of inventory  \n",
       "1                         1.1  \n",
       "3                         1.2  \n",
       "5                         1.5  \n",
       "7                         1.2  "
      ]
     },
     "execution_count": 3,
     "metadata": {},
     "output_type": "execute_result"
    }
   ],
   "source": [
    "firstyearDF = HousingDF.iloc[[1,3,5,7]]\n",
    "firstyearDF"
   ]
  },
  {
   "cell_type": "code",
   "execution_count": 4,
   "metadata": {},
   "outputs": [
    {
     "data": {
      "text/html": [
       "<div>\n",
       "<style scoped>\n",
       "    .dataframe tbody tr th:only-of-type {\n",
       "        vertical-align: middle;\n",
       "    }\n",
       "\n",
       "    .dataframe tbody tr th {\n",
       "        vertical-align: top;\n",
       "    }\n",
       "\n",
       "    .dataframe thead th {\n",
       "        text-align: right;\n",
       "    }\n",
       "</style>\n",
       "<table border=\"1\" class=\"dataframe\">\n",
       "  <thead>\n",
       "    <tr style=\"text-align: right;\">\n",
       "      <th></th>\n",
       "      <th>Month/YR</th>\n",
       "      <th>New Listings</th>\n",
       "      <th>Pending Sales</th>\n",
       "      <th>Closed Sales</th>\n",
       "      <th>Median Sales Price</th>\n",
       "      <th>Average Sales Price</th>\n",
       "      <th>Percent of Orginal List Price</th>\n",
       "      <th>List to close</th>\n",
       "      <th>Days on Market until Sale</th>\n",
       "      <th>Inv of Homes for Sales</th>\n",
       "      <th>Months supply of inventory</th>\n",
       "    </tr>\n",
       "  </thead>\n",
       "  <tbody>\n",
       "    <tr>\n",
       "      <th>0</th>\n",
       "      <td>2019-09-01</td>\n",
       "      <td>1983</td>\n",
       "      <td>1778</td>\n",
       "      <td>1833</td>\n",
       "      <td>271900</td>\n",
       "      <td>331506</td>\n",
       "      <td>97.1</td>\n",
       "      <td>85</td>\n",
       "      <td>34</td>\n",
       "      <td>3811</td>\n",
       "      <td>2.2</td>\n",
       "    </tr>\n",
       "    <tr>\n",
       "      <th>2</th>\n",
       "      <td>2019-06-01</td>\n",
       "      <td>2402</td>\n",
       "      <td>1970</td>\n",
       "      <td>2066</td>\n",
       "      <td>28500</td>\n",
       "      <td>371900</td>\n",
       "      <td>97.7</td>\n",
       "      <td>81</td>\n",
       "      <td>31</td>\n",
       "      <td>3992</td>\n",
       "      <td>2.4</td>\n",
       "    </tr>\n",
       "    <tr>\n",
       "      <th>4</th>\n",
       "      <td>2019-04-01</td>\n",
       "      <td>2462</td>\n",
       "      <td>2041</td>\n",
       "      <td>1850</td>\n",
       "      <td>268250</td>\n",
       "      <td>340645</td>\n",
       "      <td>97.3</td>\n",
       "      <td>86</td>\n",
       "      <td>38</td>\n",
       "      <td>3599</td>\n",
       "      <td>2.2</td>\n",
       "    </tr>\n",
       "    <tr>\n",
       "      <th>6</th>\n",
       "      <td>2019-02-01</td>\n",
       "      <td>1936</td>\n",
       "      <td>1589</td>\n",
       "      <td>1224</td>\n",
       "      <td>252050</td>\n",
       "      <td>317987</td>\n",
       "      <td>96.6</td>\n",
       "      <td>97</td>\n",
       "      <td>46</td>\n",
       "      <td>3439</td>\n",
       "      <td>2.1</td>\n",
       "    </tr>\n",
       "  </tbody>\n",
       "</table>\n",
       "</div>"
      ],
      "text/plain": [
       "    Month/YR  New Listings  Pending Sales  Closed Sales  Median Sales Price  \\\n",
       "0 2019-09-01          1983           1778          1833              271900   \n",
       "2 2019-06-01          2402           1970          2066               28500   \n",
       "4 2019-04-01          2462           2041          1850              268250   \n",
       "6 2019-02-01          1936           1589          1224              252050   \n",
       "\n",
       "   Average Sales Price  Percent of Orginal List Price  List to close  \\\n",
       "0               331506                           97.1             85   \n",
       "2               371900                           97.7             81   \n",
       "4               340645                           97.3             86   \n",
       "6               317987                           96.6             97   \n",
       "\n",
       "   Days on Market until Sale  Inv of Homes for Sales  \\\n",
       "0                         34                    3811   \n",
       "2                         31                    3992   \n",
       "4                         38                    3599   \n",
       "6                         46                    3439   \n",
       "\n",
       "   Months supply of inventory  \n",
       "0                         2.2  \n",
       "2                         2.4  \n",
       "4                         2.2  \n",
       "6                         2.1  "
      ]
     },
     "execution_count": 4,
     "metadata": {},
     "output_type": "execute_result"
    }
   ],
   "source": [
    "HousingDF\n",
    "secondyearDF = HousingDF.iloc[[0,2,4,6]]\n",
    "secondyearDF"
   ]
  },
  {
   "cell_type": "code",
   "execution_count": 14,
   "metadata": {},
   "outputs": [
    {
     "data": {
      "text/html": [
       "<div>\n",
       "<style scoped>\n",
       "    .dataframe tbody tr th:only-of-type {\n",
       "        vertical-align: middle;\n",
       "    }\n",
       "\n",
       "    .dataframe tbody tr th {\n",
       "        vertical-align: top;\n",
       "    }\n",
       "\n",
       "    .dataframe thead th {\n",
       "        text-align: right;\n",
       "    }\n",
       "</style>\n",
       "<table border=\"1\" class=\"dataframe\">\n",
       "  <thead>\n",
       "    <tr style=\"text-align: right;\">\n",
       "      <th></th>\n",
       "      <th>Months supply of inventory</th>\n",
       "    </tr>\n",
       "  </thead>\n",
       "  <tbody>\n",
       "    <tr>\n",
       "      <th>1</th>\n",
       "      <td>1.1</td>\n",
       "    </tr>\n",
       "    <tr>\n",
       "      <th>3</th>\n",
       "      <td>1.2</td>\n",
       "    </tr>\n",
       "    <tr>\n",
       "      <th>5</th>\n",
       "      <td>1.5</td>\n",
       "    </tr>\n",
       "    <tr>\n",
       "      <th>7</th>\n",
       "      <td>1.2</td>\n",
       "    </tr>\n",
       "  </tbody>\n",
       "</table>\n",
       "</div>"
      ],
      "text/plain": [
       "   Months supply of inventory\n",
       "1                         1.1\n",
       "3                         1.2\n",
       "5                         1.5\n",
       "7                         1.2"
      ]
     },
     "execution_count": 14,
     "metadata": {},
     "output_type": "execute_result"
    }
   ],
   "source": [
    "Months_Supply2020 = firstyearDF[[\"Months supply of inventory\"]]\n",
    "Months_Supply2020"
   ]
  },
  {
   "cell_type": "code",
   "execution_count": 15,
   "metadata": {},
   "outputs": [
    {
     "data": {
      "text/html": [
       "<div>\n",
       "<style scoped>\n",
       "    .dataframe tbody tr th:only-of-type {\n",
       "        vertical-align: middle;\n",
       "    }\n",
       "\n",
       "    .dataframe tbody tr th {\n",
       "        vertical-align: top;\n",
       "    }\n",
       "\n",
       "    .dataframe thead th {\n",
       "        text-align: right;\n",
       "    }\n",
       "</style>\n",
       "<table border=\"1\" class=\"dataframe\">\n",
       "  <thead>\n",
       "    <tr style=\"text-align: right;\">\n",
       "      <th></th>\n",
       "      <th>Months supply of inventory</th>\n",
       "    </tr>\n",
       "  </thead>\n",
       "  <tbody>\n",
       "    <tr>\n",
       "      <th>0</th>\n",
       "      <td>2.2</td>\n",
       "    </tr>\n",
       "    <tr>\n",
       "      <th>2</th>\n",
       "      <td>2.4</td>\n",
       "    </tr>\n",
       "    <tr>\n",
       "      <th>4</th>\n",
       "      <td>2.2</td>\n",
       "    </tr>\n",
       "    <tr>\n",
       "      <th>6</th>\n",
       "      <td>2.1</td>\n",
       "    </tr>\n",
       "  </tbody>\n",
       "</table>\n",
       "</div>"
      ],
      "text/plain": [
       "   Months supply of inventory\n",
       "0                         2.2\n",
       "2                         2.4\n",
       "4                         2.2\n",
       "6                         2.1"
      ]
     },
     "execution_count": 15,
     "metadata": {},
     "output_type": "execute_result"
    }
   ],
   "source": [
    "Months_Supply2019 = secondyearDF[[\"Months supply of inventory\"]]\n",
    "Months_Supply2019"
   ]
  },
  {
   "cell_type": "code",
   "execution_count": 26,
   "metadata": {},
   "outputs": [
    {
     "data": {
      "text/plain": [
       "Text(0.5, 1.0, '2020 Months Supply of House Inventory')"
      ]
     },
     "execution_count": 26,
     "metadata": {},
     "output_type": "execute_result"
    },
    {
     "data": {
      "image/png": "[encoded data removed]",
      "text/plain": [
       "<Figure size 432x288 with 1 Axes>"
      ]
     },
     "metadata": {
      "needs_background": "light"
     },
     "output_type": "display_data"
    }
   ],
   "source": [
    "x_axis1 = Months_Supply2020\n",
    "plt.plot(firstyearDF[\"Month/YR\"], x_axis1)\n",
    "plt.xticks(rotation=90)\n",
    "plt.xlabel(\"Month/Year\")\n",
    "plt.ylabel(\"Months Supply of Inventory\")\n",
    "plt.title(\"2020 Months Supply of House Inventory\")\n"
   ]
  },
  {
   "cell_type": "code",
   "execution_count": 28,
   "metadata": {},
   "outputs": [
    {
     "data": {
      "text/plain": [
       "Text(0.5, 1.0, '2019 Months Supply of House Inventory')"
      ]
     },
     "execution_count": 28,
     "metadata": {},
     "output_type": "execute_result"
    },
    {
     "data": {
      "image/png": "[encoded data removed]",
      "text/plain": [
       "<Figure size 432x288 with 1 Axes>"
      ]
     },
     "metadata": {
      "needs_background": "light"
     },
     "output_type": "display_data"
    }
   ],
   "source": [
    "x_axis2 = Months_Supply2019\n",
    "plt.plot(secondyearDF[\"Month/YR\"], x_axis2)\n",
    "plt.xticks(rotation=90)\n",
    "plt.xlabel(\"Month/Year\")\n",
    "plt.ylabel(\"Months Supply of Inventory\")\n",
    "plt.title(\"2019 Months Supply of House Inventory\")"
   ]
  },
  {
   "cell_type": "code",
   "execution_count": null,
   "metadata": {},
   "outputs": [],
   "source": []
  }
 ],
 "metadata": {
  "kernelspec": {
   "display_name": "Python 3",
   "language": "python",
   "name": "python3"
  },
  "language_info": {
   "codemirror_mode": {
    "name": "ipython",
    "version": 3
   },
   "file_extension": ".py",
   "mimetype": "text/x-python",
   "name": "python",
   "nbconvert_exporter": "python",
   "pygments_lexer": "ipython3",
   "version": "3.8.3"
  }
 },
 "nbformat": 4,
 "nbformat_minor": 4
}
