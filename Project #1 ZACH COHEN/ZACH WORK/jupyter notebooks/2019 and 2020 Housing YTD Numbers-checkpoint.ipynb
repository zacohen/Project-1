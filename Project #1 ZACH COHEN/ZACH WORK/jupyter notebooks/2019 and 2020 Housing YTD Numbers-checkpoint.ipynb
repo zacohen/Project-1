{
 "cells": [
  {
   "cell_type": "code",
   "execution_count": 1,
   "metadata": {},
   "outputs": [],
   "source": [
    "import pandas as pd\n",
    "import os\n",
    "from matplotlib import pyplot as plt\n",
    "\n"
   ]
  },
  {
   "cell_type": "code",
   "execution_count": 2,
   "metadata": {},
   "outputs": [],
   "source": [
    "YTDDF = pd.read_csv(\"housing data ytd sept 19 and sept 20.csv\")"
   ]
  },
  {
   "cell_type": "code",
   "execution_count": 3,
   "metadata": {},
   "outputs": [
    {
     "data": {
      "text/html": [
       "<div>\n",
       "<style scoped>\n",
       "    .dataframe tbody tr th:only-of-type {\n",
       "        vertical-align: middle;\n",
       "    }\n",
       "\n",
       "    .dataframe tbody tr th {\n",
       "        vertical-align: top;\n",
       "    }\n",
       "\n",
       "    .dataframe thead th {\n",
       "        text-align: right;\n",
       "    }\n",
       "</style>\n",
       "<table border=\"1\" class=\"dataframe\">\n",
       "  <thead>\n",
       "    <tr style=\"text-align: right;\">\n",
       "      <th></th>\n",
       "      <th>Year</th>\n",
       "      <th>New Listings</th>\n",
       "      <th>Pending Sales</th>\n",
       "      <th>Closed Sales</th>\n",
       "      <th>Median Sales Price</th>\n",
       "      <th>Average Sales Price</th>\n",
       "      <th>Percent of Orginal List Price</th>\n",
       "      <th>List to close</th>\n",
       "      <th>Days on Market until Sale</th>\n",
       "    </tr>\n",
       "  </thead>\n",
       "  <tbody>\n",
       "    <tr>\n",
       "      <th>0</th>\n",
       "      <td>2019</td>\n",
       "      <td>20473</td>\n",
       "      <td>16924</td>\n",
       "      <td>15839</td>\n",
       "      <td>270000</td>\n",
       "      <td>340669</td>\n",
       "      <td>97.2</td>\n",
       "      <td>86</td>\n",
       "      <td>37</td>\n",
       "    </tr>\n",
       "    <tr>\n",
       "      <th>1</th>\n",
       "      <td>2020</td>\n",
       "      <td>19172</td>\n",
       "      <td>17603</td>\n",
       "      <td>15885</td>\n",
       "      <td>295900</td>\n",
       "      <td>369055</td>\n",
       "      <td>98.2</td>\n",
       "      <td>87</td>\n",
       "      <td>33</td>\n",
       "    </tr>\n",
       "  </tbody>\n",
       "</table>\n",
       "</div>"
      ],
      "text/plain": [
       "   Year  New Listings  Pending Sales  Closed Sales  Median Sales Price  \\\n",
       "0  2019         20473          16924         15839              270000   \n",
       "1  2020         19172          17603         15885              295900   \n",
       "\n",
       "   Average Sales Price  Percent of Orginal List Price  List to close  \\\n",
       "0               340669                           97.2             86   \n",
       "1               369055                           98.2             87   \n",
       "\n",
       "   Days on Market until Sale  \n",
       "0                         37  \n",
       "1                         33  "
      ]
     },
     "execution_count": 3,
     "metadata": {},
     "output_type": "execute_result"
    }
   ],
   "source": [
    "YTDDF = YTDDF.rename(columns={\"YTD \": \"Year\"})\n",
    "YTDDF"
   ]
  },
  {
   "cell_type": "code",
   "execution_count": 4,
   "metadata": {},
   "outputs": [
    {
     "data": {
      "text/html": [
       "<div>\n",
       "<style scoped>\n",
       "    .dataframe tbody tr th:only-of-type {\n",
       "        vertical-align: middle;\n",
       "    }\n",
       "\n",
       "    .dataframe tbody tr th {\n",
       "        vertical-align: top;\n",
       "    }\n",
       "\n",
       "    .dataframe thead th {\n",
       "        text-align: right;\n",
       "    }\n",
       "</style>\n",
       "<table border=\"1\" class=\"dataframe\">\n",
       "  <thead>\n",
       "    <tr style=\"text-align: right;\">\n",
       "      <th></th>\n",
       "      <th>Year</th>\n",
       "      <th>Median Sales Price</th>\n",
       "      <th>Average Sales Price</th>\n",
       "    </tr>\n",
       "  </thead>\n",
       "  <tbody>\n",
       "    <tr>\n",
       "      <th>0</th>\n",
       "      <td>2019</td>\n",
       "      <td>270000</td>\n",
       "      <td>340669</td>\n",
       "    </tr>\n",
       "    <tr>\n",
       "      <th>1</th>\n",
       "      <td>2020</td>\n",
       "      <td>295900</td>\n",
       "      <td>369055</td>\n",
       "    </tr>\n",
       "  </tbody>\n",
       "</table>\n",
       "</div>"
      ],
      "text/plain": [
       "   Year  Median Sales Price  Average Sales Price\n",
       "0  2019              270000               340669\n",
       "1  2020              295900               369055"
      ]
     },
     "execution_count": 4,
     "metadata": {},
     "output_type": "execute_result"
    }
   ],
   "source": [
    "Prices_YTDDF = YTDDF[[\"Year\", \"Median Sales Price\", \"Average Sales Price\"]]\n",
    "Prices_YTDDF"
   ]
  },
  {
   "cell_type": "code",
   "execution_count": 5,
   "metadata": {},
   "outputs": [
    {
     "data": {
      "text/plain": [
       "Text(0.5, 1.0, 'Mecklenburg County House Price 2019 vs. 2020')"
      ]
     },
     "execution_count": 5,
     "metadata": {},
     "output_type": "execute_result"
    },
    {
     "data": {
      "image/png": "[encoded data removed]",
      "text/plain": [
       "<Figure size 432x288 with 1 Axes>"
      ]
     },
     "metadata": {
      "needs_background": "light"
     },
     "output_type": "display_data"
    }
   ],
   "source": [
    "medsales = Prices_YTDDF[\"Median Sales Price\"].values\n",
    "#medsales\n",
    "avgsales = Prices_YTDDF[\"Average Sales Price\"].values\n",
    "years = Prices_YTDDF[\"Year\"].values\n",
    "\n",
    "medsalesseries = pd.Series(medsales, index=years)\n",
    "avgsalesseries = pd.Series(avgsales, index=years)\n",
    "\n",
    "SummaryDF = pd.DataFrame({ \"Median Sales\": medsalesseries,\n",
    "                          \"Average Sales\": avgsalesseries})\n",
    "SummaryDF.plot.bar(color=[\"red\",\"blue\"])\n",
    "plt.xlabel(\"Year\")\n",
    "plt.ylabel(\"Dollar Amount\")\n",
    "plt.title(\"Mecklenburg County House Price 2019 vs. 2020\")"
   ]
  },
  {
   "cell_type": "code",
   "execution_count": 6,
   "metadata": {},
   "outputs": [
    {
     "data": {
      "text/plain": [
       "<Figure size 432x288 with 0 Axes>"
      ]
     },
     "metadata": {},
     "output_type": "display_data"
    }
   ],
   "source": [
    "plt.savefig(\"Meck Housing Prices.png\")"
   ]
  },
  {
   "cell_type": "code",
   "execution_count": null,
   "metadata": {},
   "outputs": [],
   "source": []
  }
 ],
 "metadata": {
  "kernelspec": {
   "display_name": "Python 3",
   "language": "python",
   "name": "python3"
  },
  "language_info": {
   "codemirror_mode": {
    "name": "ipython",
    "version": 3
   },
   "file_extension": ".py",
   "mimetype": "text/x-python",
   "name": "python",
   "nbconvert_exporter": "python",
   "pygments_lexer": "ipython3",
   "version": "3.8.3"
  }
 },
 "nbformat": 4,
 "nbformat_minor": 4
}
